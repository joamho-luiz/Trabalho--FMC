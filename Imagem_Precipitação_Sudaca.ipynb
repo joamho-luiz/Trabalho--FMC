{
  "nbformat": 4,
  "nbformat_minor": 0,
  "metadata": {
    "colab": {
      "name": "Imagem Precipitação Sudaca",
      "provenance": [],
      "collapsed_sections": [
        "8FGXrUuKd1Ok"
      ],
      "authorship_tag": "ABX9TyNw4455Y+PI++P8FwMBg9ib",
      "include_colab_link": true
    },
    "kernelspec": {
      "name": "python3",
      "display_name": "Python 3"
    },
    "language_info": {
      "name": "python"
    }
  },
  "cells": [
    {
      "cell_type": "markdown",
      "metadata": {
        "id": "view-in-github",
        "colab_type": "text"
      },
      "source": [
        "<a href=\"https://colab.research.google.com/github/joamho-luiz/Trabalho-FMC/blob/main/Imagem_Precipita%C3%A7%C3%A3o_Sudaca.ipynb\" target=\"_parent\"><img src=\"https://colab.research.google.com/assets/colab-badge.svg\" alt=\"Open In Colab\"/></a>"
      ]
    },
    {
      "cell_type": "markdown",
      "metadata": {
        "id": "8FGXrUuKd1Ok"
      },
      "source": [
        "# Instações e Importações"
      ]
    },
    {
      "cell_type": "code",
      "metadata": {
        "id": "99eu0E4Kovqu"
      },
      "source": [
        "!pip install cartopy\n",
        "!pip install --upgrade  xarray zarr gcsfs cftime nc-time-axis \n",
        "from matplotlib import pyplot as plt\n",
        "import numpy as np\n",
        "import pandas as pd\n",
        "import xarray as xr\n",
        "import zarr\n",
        "import gcsfs\n",
        "import cartopy.crs as ccrs\n",
        "from matplotlib.axes import Axes\n",
        "xr.set_options(display_style='html')\n",
        "%matplotlib inline\n",
        "%config InlineBackend.figure_format = 'retina' \n",
        "plt.rcParams['figure.figsize'] = 12, 6\n",
        "fig = plt.figure(figsize=(15, 8))"
      ],
      "execution_count": null,
      "outputs": []
    },
    {
      "cell_type": "markdown",
      "metadata": {
        "id": "cP3OObLjHd-t"
      },
      "source": [
        "# Carregar dados utilizados"
      ]
    },
    {
      "cell_type": "markdown",
      "metadata": {
        "id": "DjqV47YjUFG0"
      },
      "source": [
        "## _Execute apenas o modelo que for utilizar_\n",
        "\\> > Você só precisa definir os modelos aqui:"
      ]
    },
    {
      "cell_type": "code",
      "metadata": {
        "id": "TdNHOM5JuZP4"
      },
      "source": [
        "# EC:\n",
        "institution_id = \"EC-Earth-Consortium\"      \n",
        "source_id = \"EC-Earth3\"\n",
        "experiment_id = \"historical\"\n",
        "table_id = \"Amon\"\n",
        "variable_id = \"pr\""
      ],
      "execution_count": null,
      "outputs": []
    },
    {
      "cell_type": "code",
      "metadata": {
        "id": "Qid_QvlrbJwV"
      },
      "source": [
        "# E3:\n",
        "institution_id = \"E3SM-Project\"\n",
        "source_id = \"E3SM-1-1\"\n",
        "experiment_id = \"historical\"\n",
        "table_id = \"Amon\"\n",
        "variable_id = \"pr\""
      ],
      "execution_count": 3,
      "outputs": []
    },
    {
      "cell_type": "code",
      "metadata": {
        "id": "n5sToExVpcqE"
      },
      "source": [
        "# CN:\n",
        "institution_id = \"CNRM-CERFACS\"\n",
        "source_id = \"CNRM-CM6-1\"\n",
        "experiment_id = \"historical\"\n",
        "table_id = \"Amon\"\n",
        "variable_id = \"pr\""
      ],
      "execution_count": null,
      "outputs": []
    },
    {
      "cell_type": "markdown",
      "metadata": {
        "id": "g4rj4hI0ri_4"
      },
      "source": [
        "# Média da primeira metade do século 20"
      ]
    },
    {
      "cell_type": "code",
      "metadata": {
        "id": "-MEk50Qrry6R"
      },
      "source": [
        "# Comente o que não deve ser definido\n",
        "parametro = \"\"\n",
        "parametro += f\" & institution_id == '{institution_id}'\" if parametro != \"\" else f\"institution_id == '{institution_id}'\"  \n",
        "parametro += f\" & source_id == '{source_id}'\" if parametro != \"\" else f\"source_id == '{source_id}'\"  \n",
        "parametro += f\" & experiment_id == '{experiment_id}'\" if parametro != \"\" else f\"experiment_id == '{experiment_id}'\"  \n",
        "parametro += f\" & table_id == '{table_id}'\" if parametro != \"\" else f\"table_id == '{table_id}'\"  \n",
        "parametro += f\" & variable_id == '{variable_id}'\" if parametro != \"\" else f\"variable_id == '{variable_id}'\"  \n",
        "parametros = parametro"
      ],
      "execution_count": 4,
      "outputs": []
    },
    {
      "cell_type": "code",
      "metadata": {
        "id": "b-quBBPpr_dv"
      },
      "source": [
        "# Acessar dados.\n",
        "lista_de_modelos = pd.read_csv('https://storage.googleapis.com/cmip6/cmip6-zarr-consolidated-stores.csv')\n",
        "%load_ext google.colab.data_table"
      ],
      "execution_count": 5,
      "outputs": []
    },
    {
      "cell_type": "code",
      "metadata": {
        "id": "1iTsysRdr3xA"
      },
      "source": [
        "seleccamho = lista_de_modelos.query(parametros)\n",
        "seleccamho"
      ],
      "execution_count": null,
      "outputs": []
    },
    {
      "cell_type": "code",
      "metadata": {
        "id": "vxCjS-BysYCP"
      },
      "source": [
        "# isso só precisa ser criado uma vez\n",
        "gcs = gcsfs.GCSFileSystem(token='anon')\n",
        "\n",
        "# obter o caminho para um armazenamento zarr específico (o primeiro do dataframe acima)\n",
        "zstore = seleccamho.zstore.values[-1]       #EC usamos -2\n",
        "zstore\n",
        "# criar uma interface de estilo de mapeamento mutável para a loja\n",
        "mapper = gcs.get_mapper(zstore)\n",
        "\n",
        "# abra usando xarray e zarr\n",
        "ds = xr.open_zarr(mapper, consolidated=True)\n",
        "df=ds.pr.to_dataframe()\n",
        "df"
      ],
      "execution_count": null,
      "outputs": []
    },
    {
      "cell_type": "code",
      "metadata": {
        "id": "MilNRrOwOwAT"
      },
      "source": [
        "med_br1_pr = ds.pr.sel(time=slice('1900','1950')).mean(dim='time') "
      ],
      "execution_count": 8,
      "outputs": []
    },
    {
      "cell_type": "markdown",
      "metadata": {
        "id": "WK5lfUIZnTSh"
      },
      "source": [
        "# Média da primeira metade do século 21"
      ]
    },
    {
      "cell_type": "code",
      "metadata": {
        "id": "Gh0AFzIOovyq"
      },
      "source": [
        "experiment_id = \"ssp585\"\n",
        "\n",
        "parametro = \"\"\n",
        "parametro += f\" & institution_id == '{institution_id}'\" if parametro != \"\" else f\"institution_id == '{institution_id}'\"  \n",
        "parametro += f\" & source_id == '{source_id}'\" if parametro != \"\" else f\"source_id == '{source_id}'\"  \n",
        "parametro += f\" & experiment_id == '{experiment_id}'\" if parametro != \"\" else f\"experiment_id == '{experiment_id}'\"  \n",
        "parametro += f\" & table_id == '{table_id}'\" if parametro != \"\" else f\"table_id == '{table_id}'\"  \n",
        "parametro += f\" & variable_id == '{variable_id}'\" if parametro != \"\" else f\"variable_id == '{variable_id}'\"  \n",
        "parametros = parametro\n",
        "\n",
        "seleccamho = lista_de_modelos.query(parametros)"
      ],
      "execution_count": 9,
      "outputs": []
    },
    {
      "cell_type": "code",
      "metadata": {
        "id": "LcGaVS6umhK4"
      },
      "source": [
        "# isso só precisa ser criado uma vez\n",
        "gcs = gcsfs.GCSFileSystem(token='anon')\n",
        "\n",
        "# obter o caminho para um armazenamento zarr específico (o primeiro do dataframe acima)\n",
        "zstore = seleccamho.zstore.values[-1]       #EC usamos -2\n",
        "zstore\n",
        "# criar uma interface de estilo de mapeamento mutável para a loja\n",
        "mapper = gcs.get_mapper(zstore)\n",
        "\n",
        "# abra usando xarray e zarr\n",
        "ds = xr.open_zarr(mapper, consolidated=True)\n",
        "df=ds.pr.to_dataframe()\n",
        "df"
      ],
      "execution_count": null,
      "outputs": []
    },
    {
      "cell_type": "code",
      "metadata": {
        "id": "cNgt_llVlu_E"
      },
      "source": [
        "med_br2_pr = ds.pr.sel(time=slice('2000','2050')).mean(dim='time') "
      ],
      "execution_count": 11,
      "outputs": []
    },
    {
      "cell_type": "markdown",
      "metadata": {
        "id": "c08MmGKQogZ1"
      },
      "source": [
        "# Gerar Imagem"
      ]
    },
    {
      "cell_type": "code",
      "metadata": {
        "id": "loo1vrYXP5s0",
        "colab": {
          "base_uri": "https://localhost:8080/"
        },
        "outputId": "c1786b4c-336a-4e9a-c8e6-2f8faac9b87d"
      },
      "source": [
        "# Calcular a diferença:\n",
        "diferencca_br_pr = med_br2_pr - med_br1_pr\n",
        "diferencca_br_pr.values"
      ],
      "execution_count": 12,
      "outputs": [
        {
          "output_type": "execute_result",
          "data": {
            "text/plain": [
              "array([[4.4518492e-07, 4.4518674e-07, 4.4518879e-07, ..., 4.4518879e-07,\n",
              "        4.4518674e-07, 4.4518492e-07],\n",
              "       [4.0751820e-07, 4.0754594e-07, 4.0760187e-07, ..., 4.0760187e-07,\n",
              "        4.0754594e-07, 4.0751820e-07],\n",
              "       [3.7845143e-07, 3.7846371e-07, 3.7848804e-07, ..., 3.7848804e-07,\n",
              "        3.7846371e-07, 3.7845143e-07],\n",
              "       ...,\n",
              "       [2.6748889e-06, 2.6749267e-06, 2.6750085e-06, ..., 2.6750085e-06,\n",
              "        2.6749267e-06, 2.6748889e-06],\n",
              "       [2.6741172e-06, 2.6741000e-06, 2.6740727e-06, ..., 2.6740727e-06,\n",
              "        2.6741000e-06, 2.6741172e-06],\n",
              "       [2.6602238e-06, 2.6602279e-06, 2.6602320e-06, ..., 2.6602320e-06,\n",
              "        2.6602279e-06, 2.6602238e-06]], dtype=float32)"
            ]
          },
          "metadata": {},
          "execution_count": 12
        }
      ]
    },
    {
      "cell_type": "code",
      "metadata": {
        "id": "qERtSMc2IkTh",
        "colab": {
          "base_uri": "https://localhost:8080/",
          "height": 531
        },
        "outputId": "e332c0ca-1388-4ebf-a526-8778ecbf513d"
      },
      "source": [
        "tair = diferencca_br_pr\n",
        "\n",
        "# Recortar para América do sul\n",
        "min_lon = -90.0\n",
        "min_lat = -40.0\n",
        "max_lon = -30.0\n",
        "max_lat = 10\n",
        "min_lon = min_lon+360\n",
        "max_lon = max_lon+360\n",
        "mask_lon = (ds.lon >= min_lon) & (ds.lon <= max_lon)\n",
        "mask_lat = (ds.lat >= min_lat) & (ds.lat <= max_lat)\n",
        "ams_tair = tair.where(mask_lon & mask_lat, drop=True)\n",
        "\n",
        "fig = plt.figure(figsize=(16, 9))     \n",
        "\n",
        "p=ams_tair.squeeze().plot(subplot_kws=dict(projection=ccrs.PlateCarree(central_longitude=-56.0)),\n",
        "    transform=ccrs.PlateCarree(), cmap='RdBu' )  #viridis    hsc    YlGnBu      coolwarm      RdBu       Blues       seismic\n",
        "type(p)\n",
        "\n",
        "# Contorno das costas do continente # não funciona mais \n",
        "# p.axes.set_global()\n",
        "# p.axes.coastlines()\n",
        "\n",
        "plt.savefig(f'Precipitação - {institution_id}.png', dpi=500, bbox_inches='tight')  "
      ],
      "execution_count": 13,
      "outputs": [
        {
          "output_type": "display_data",
          "data": {
            "image/png": "[encoded data removed]",
            "text/plain": [
              "<Figure size 1152x648 with 2 Axes>"
            ]
          },
          "metadata": {
            "image/png": {
              "width": 715,
              "height": 514
            },
            "needs_background": "light"
          }
        }
      ]
    }
  ]
}